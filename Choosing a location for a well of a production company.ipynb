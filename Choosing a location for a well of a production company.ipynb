{
 "cells": [
  {
   "cell_type": "markdown",
   "metadata": {},
   "source": [
    "# Выбор локации для скважины"
   ]
  },
  {
   "cell_type": "markdown",
   "metadata": {},
   "source": [
    "Допустим, что добывающая компания «ГлавРосГосНефть» поставила задачу - решить, где бурить новую скважину.\n",
    "\n",
    "Нам предоставлены пробы нефти в трёх регионах: в каждом 10 000 месторождений, где измерили качество нефти и объём её запасов.   \n",
    "\n",
    "Нужно построить модель машинного обучения, которая поможет определить регион, где добыча принесёт наибольшую прибыль. Также, нужно проанализировать возможную прибыль и риски техникой *Bootstrap.*\n",
    "\n",
    "Шаги для выбора локации:\n",
    "\n",
    "- В избранном регионе ищут месторождения, для каждого определяют значения признаков;\n",
    "- Строят модель и оценивают объём запасов;\n",
    "- Выбирают месторождения с самым высокими оценками значений. Количество месторождений зависит от бюджета компании и стоимости разработки одной скважины;\n",
    "- Прибыль равна суммарной прибыли отобранных месторождений."
   ]
  },
  {
   "cell_type": "markdown",
   "metadata": {},
   "source": [
    "# Описание данных  \n",
    "\n",
    "Данные геологоразведки трёх регионов находятся в файлах:\n",
    "\n",
    "/datasets/geo_data_0.csv   \n",
    "/datasets/geo_data_1.csv    \n",
    "/datasets/geo_data_2.csv   \n",
    "\n",
    "id — уникальный идентификатор скважины;  \n",
    "f0, f1, f2 — три признака точек (неважно, что они означают, но сами признаки значимы);  \n",
    "product — объём запасов в скважине (тыс. баррелей).  \n",
    "\n",
    "# Условия выполнения задачи:\n",
    "* Для обучения модели подходит только линейная регрессия (остальные — недостаточно предсказуемые).  \n",
    "\n",
    "* При разведке региона исследуют 500 точек, из которых с помощью машинного обучения выбирают 200 лучших для разработки.  \n",
    "\n",
    "* Бюджет на разработку скважин в регионе — 10 млрд рублей.  \n",
    "\n",
    "* При нынешних ценах один баррель сырья приносит 450 рублей дохода. Доход с каждой единицы продукта составляет 450 тыс. рублей, поскольку объём указан в тысячах баррелей.  \n",
    "\n",
    "* После оценки рисков нужно оставить лишь те регионы, в которых вероятность убытков меньше 2.5%. Среди них выбирают регион с наибольшей средней прибылью.  \n",
    "\n",
    "* Данные синтетические: детали контрактов и характеристики месторождений не разглашаются.  "
   ]
  },
  {
   "cell_type": "code",
   "execution_count": 1,
   "metadata": {},
   "outputs": [],
   "source": [
    "# Импортируем инструменты, которые понадобятся нам для работы:\n",
    "\n",
    "import pandas as pd\n",
    "\n",
    "import math\n",
    "\n",
    "import sklearn\n",
    "\n",
    "import warnings\n",
    "warnings.filterwarnings('ignore')\n",
    "\n",
    "import numpy as np\n",
    "\n",
    "import seaborn as sns\n",
    "\n",
    "import matplotlib.pyplot as plt\n",
    "\n",
    "from sklearn.model_selection import train_test_split\n",
    "\n",
    "from sklearn.linear_model import LinearRegression\n",
    "\n",
    "from sklearn.metrics import r2_score\n",
    "\n",
    "from sklearn.metrics import mean_absolute_error\n",
    "\n",
    "from sklearn.metrics import mean_squared_error\n",
    "\n",
    "from numpy.random import RandomState\n",
    "state = RandomState(12345)\n",
    "\n",
    "from tqdm import tqdm"
   ]
  },
  {
   "cell_type": "markdown",
   "metadata": {},
   "source": [
    "## Загрузка и подготовка данных"
   ]
  },
  {
   "cell_type": "markdown",
   "metadata": {},
   "source": [
    "Загружаем полученные данные о трех регионах"
   ]
  },
  {
   "cell_type": "code",
   "execution_count": 2,
   "metadata": {},
   "outputs": [],
   "source": [
    "df_0 = pd.read_csv('/datasets/geo_data_0.csv')\n",
    "df_1 = pd.read_csv('/datasets/geo_data_1.csv')\n",
    "df_2 = pd.read_csv('/datasets/geo_data_2.csv')"
   ]
  },
  {
   "cell_type": "markdown",
   "metadata": {},
   "source": [
    "Изучим информацию датафреймов по первым 5 строкам:"
   ]
  },
  {
   "cell_type": "code",
   "execution_count": 3,
   "metadata": {},
   "outputs": [
    {
     "name": "stdout",
     "output_type": "stream",
     "text": [
      "<class 'pandas.core.frame.DataFrame'>\n",
      "RangeIndex: 100000 entries, 0 to 99999\n",
      "Data columns (total 5 columns):\n",
      " #   Column   Non-Null Count   Dtype  \n",
      "---  ------   --------------   -----  \n",
      " 0   id       100000 non-null  object \n",
      " 1   f0       100000 non-null  float64\n",
      " 2   f1       100000 non-null  float64\n",
      " 3   f2       100000 non-null  float64\n",
      " 4   product  100000 non-null  float64\n",
      "dtypes: float64(4), object(1)\n",
      "memory usage: 3.8+ MB\n",
      "None\n"
     ]
    },
    {
     "data": {
      "text/html": [
       "<div>\n",
       "<style scoped>\n",
       "    .dataframe tbody tr th:only-of-type {\n",
       "        vertical-align: middle;\n",
       "    }\n",
       "\n",
       "    .dataframe tbody tr th {\n",
       "        vertical-align: top;\n",
       "    }\n",
       "\n",
       "    .dataframe thead th {\n",
       "        text-align: right;\n",
       "    }\n",
       "</style>\n",
       "<table border=\"1\" class=\"dataframe\">\n",
       "  <thead>\n",
       "    <tr style=\"text-align: right;\">\n",
       "      <th></th>\n",
       "      <th>id</th>\n",
       "      <th>f0</th>\n",
       "      <th>f1</th>\n",
       "      <th>f2</th>\n",
       "      <th>product</th>\n",
       "    </tr>\n",
       "  </thead>\n",
       "  <tbody>\n",
       "    <tr>\n",
       "      <th>0</th>\n",
       "      <td>txEyH</td>\n",
       "      <td>0.705745</td>\n",
       "      <td>-0.497823</td>\n",
       "      <td>1.221170</td>\n",
       "      <td>105.280062</td>\n",
       "    </tr>\n",
       "    <tr>\n",
       "      <th>1</th>\n",
       "      <td>2acmU</td>\n",
       "      <td>1.334711</td>\n",
       "      <td>-0.340164</td>\n",
       "      <td>4.365080</td>\n",
       "      <td>73.037750</td>\n",
       "    </tr>\n",
       "    <tr>\n",
       "      <th>2</th>\n",
       "      <td>409Wp</td>\n",
       "      <td>1.022732</td>\n",
       "      <td>0.151990</td>\n",
       "      <td>1.419926</td>\n",
       "      <td>85.265647</td>\n",
       "    </tr>\n",
       "    <tr>\n",
       "      <th>3</th>\n",
       "      <td>iJLyR</td>\n",
       "      <td>-0.032172</td>\n",
       "      <td>0.139033</td>\n",
       "      <td>2.978566</td>\n",
       "      <td>168.620776</td>\n",
       "    </tr>\n",
       "    <tr>\n",
       "      <th>4</th>\n",
       "      <td>Xdl7t</td>\n",
       "      <td>1.988431</td>\n",
       "      <td>0.155413</td>\n",
       "      <td>4.751769</td>\n",
       "      <td>154.036647</td>\n",
       "    </tr>\n",
       "  </tbody>\n",
       "</table>\n",
       "</div>"
      ],
      "text/plain": [
       "      id        f0        f1        f2     product\n",
       "0  txEyH  0.705745 -0.497823  1.221170  105.280062\n",
       "1  2acmU  1.334711 -0.340164  4.365080   73.037750\n",
       "2  409Wp  1.022732  0.151990  1.419926   85.265647\n",
       "3  iJLyR -0.032172  0.139033  2.978566  168.620776\n",
       "4  Xdl7t  1.988431  0.155413  4.751769  154.036647"
      ]
     },
     "execution_count": 3,
     "metadata": {},
     "output_type": "execute_result"
    }
   ],
   "source": [
    "# Регион \"0\":\n",
    "\n",
    "print(df_0.info())\n",
    "df_0.head()"
   ]
  },
  {
   "cell_type": "code",
   "execution_count": 4,
   "metadata": {},
   "outputs": [
    {
     "name": "stdout",
     "output_type": "stream",
     "text": [
      "<class 'pandas.core.frame.DataFrame'>\n",
      "RangeIndex: 100000 entries, 0 to 99999\n",
      "Data columns (total 5 columns):\n",
      " #   Column   Non-Null Count   Dtype  \n",
      "---  ------   --------------   -----  \n",
      " 0   id       100000 non-null  object \n",
      " 1   f0       100000 non-null  float64\n",
      " 2   f1       100000 non-null  float64\n",
      " 3   f2       100000 non-null  float64\n",
      " 4   product  100000 non-null  float64\n",
      "dtypes: float64(4), object(1)\n",
      "memory usage: 3.8+ MB\n",
      "None\n"
     ]
    },
    {
     "data": {
      "text/html": [
       "<div>\n",
       "<style scoped>\n",
       "    .dataframe tbody tr th:only-of-type {\n",
       "        vertical-align: middle;\n",
       "    }\n",
       "\n",
       "    .dataframe tbody tr th {\n",
       "        vertical-align: top;\n",
       "    }\n",
       "\n",
       "    .dataframe thead th {\n",
       "        text-align: right;\n",
       "    }\n",
       "</style>\n",
       "<table border=\"1\" class=\"dataframe\">\n",
       "  <thead>\n",
       "    <tr style=\"text-align: right;\">\n",
       "      <th></th>\n",
       "      <th>id</th>\n",
       "      <th>f0</th>\n",
       "      <th>f1</th>\n",
       "      <th>f2</th>\n",
       "      <th>product</th>\n",
       "    </tr>\n",
       "  </thead>\n",
       "  <tbody>\n",
       "    <tr>\n",
       "      <th>0</th>\n",
       "      <td>kBEdx</td>\n",
       "      <td>-15.001348</td>\n",
       "      <td>-8.276000</td>\n",
       "      <td>-0.005876</td>\n",
       "      <td>3.179103</td>\n",
       "    </tr>\n",
       "    <tr>\n",
       "      <th>1</th>\n",
       "      <td>62mP7</td>\n",
       "      <td>14.272088</td>\n",
       "      <td>-3.475083</td>\n",
       "      <td>0.999183</td>\n",
       "      <td>26.953261</td>\n",
       "    </tr>\n",
       "    <tr>\n",
       "      <th>2</th>\n",
       "      <td>vyE1P</td>\n",
       "      <td>6.263187</td>\n",
       "      <td>-5.948386</td>\n",
       "      <td>5.001160</td>\n",
       "      <td>134.766305</td>\n",
       "    </tr>\n",
       "    <tr>\n",
       "      <th>3</th>\n",
       "      <td>KcrkZ</td>\n",
       "      <td>-13.081196</td>\n",
       "      <td>-11.506057</td>\n",
       "      <td>4.999415</td>\n",
       "      <td>137.945408</td>\n",
       "    </tr>\n",
       "    <tr>\n",
       "      <th>4</th>\n",
       "      <td>AHL4O</td>\n",
       "      <td>12.702195</td>\n",
       "      <td>-8.147433</td>\n",
       "      <td>5.004363</td>\n",
       "      <td>134.766305</td>\n",
       "    </tr>\n",
       "  </tbody>\n",
       "</table>\n",
       "</div>"
      ],
      "text/plain": [
       "      id         f0         f1        f2     product\n",
       "0  kBEdx -15.001348  -8.276000 -0.005876    3.179103\n",
       "1  62mP7  14.272088  -3.475083  0.999183   26.953261\n",
       "2  vyE1P   6.263187  -5.948386  5.001160  134.766305\n",
       "3  KcrkZ -13.081196 -11.506057  4.999415  137.945408\n",
       "4  AHL4O  12.702195  -8.147433  5.004363  134.766305"
      ]
     },
     "execution_count": 4,
     "metadata": {},
     "output_type": "execute_result"
    }
   ],
   "source": [
    "# Регион \"1\":\n",
    "\n",
    "print(df_1.info())\n",
    "df_1.head()"
   ]
  },
  {
   "cell_type": "code",
   "execution_count": 5,
   "metadata": {},
   "outputs": [
    {
     "name": "stdout",
     "output_type": "stream",
     "text": [
      "<class 'pandas.core.frame.DataFrame'>\n",
      "RangeIndex: 100000 entries, 0 to 99999\n",
      "Data columns (total 5 columns):\n",
      " #   Column   Non-Null Count   Dtype  \n",
      "---  ------   --------------   -----  \n",
      " 0   id       100000 non-null  object \n",
      " 1   f0       100000 non-null  float64\n",
      " 2   f1       100000 non-null  float64\n",
      " 3   f2       100000 non-null  float64\n",
      " 4   product  100000 non-null  float64\n",
      "dtypes: float64(4), object(1)\n",
      "memory usage: 3.8+ MB\n",
      "None\n"
     ]
    },
    {
     "data": {
      "text/html": [
       "<div>\n",
       "<style scoped>\n",
       "    .dataframe tbody tr th:only-of-type {\n",
       "        vertical-align: middle;\n",
       "    }\n",
       "\n",
       "    .dataframe tbody tr th {\n",
       "        vertical-align: top;\n",
       "    }\n",
       "\n",
       "    .dataframe thead th {\n",
       "        text-align: right;\n",
       "    }\n",
       "</style>\n",
       "<table border=\"1\" class=\"dataframe\">\n",
       "  <thead>\n",
       "    <tr style=\"text-align: right;\">\n",
       "      <th></th>\n",
       "      <th>id</th>\n",
       "      <th>f0</th>\n",
       "      <th>f1</th>\n",
       "      <th>f2</th>\n",
       "      <th>product</th>\n",
       "    </tr>\n",
       "  </thead>\n",
       "  <tbody>\n",
       "    <tr>\n",
       "      <th>0</th>\n",
       "      <td>fwXo0</td>\n",
       "      <td>-1.146987</td>\n",
       "      <td>0.963328</td>\n",
       "      <td>-0.828965</td>\n",
       "      <td>27.758673</td>\n",
       "    </tr>\n",
       "    <tr>\n",
       "      <th>1</th>\n",
       "      <td>WJtFt</td>\n",
       "      <td>0.262778</td>\n",
       "      <td>0.269839</td>\n",
       "      <td>-2.530187</td>\n",
       "      <td>56.069697</td>\n",
       "    </tr>\n",
       "    <tr>\n",
       "      <th>2</th>\n",
       "      <td>ovLUW</td>\n",
       "      <td>0.194587</td>\n",
       "      <td>0.289035</td>\n",
       "      <td>-5.586433</td>\n",
       "      <td>62.871910</td>\n",
       "    </tr>\n",
       "    <tr>\n",
       "      <th>3</th>\n",
       "      <td>q6cA6</td>\n",
       "      <td>2.236060</td>\n",
       "      <td>-0.553760</td>\n",
       "      <td>0.930038</td>\n",
       "      <td>114.572842</td>\n",
       "    </tr>\n",
       "    <tr>\n",
       "      <th>4</th>\n",
       "      <td>WPMUX</td>\n",
       "      <td>-0.515993</td>\n",
       "      <td>1.716266</td>\n",
       "      <td>5.899011</td>\n",
       "      <td>149.600746</td>\n",
       "    </tr>\n",
       "  </tbody>\n",
       "</table>\n",
       "</div>"
      ],
      "text/plain": [
       "      id        f0        f1        f2     product\n",
       "0  fwXo0 -1.146987  0.963328 -0.828965   27.758673\n",
       "1  WJtFt  0.262778  0.269839 -2.530187   56.069697\n",
       "2  ovLUW  0.194587  0.289035 -5.586433   62.871910\n",
       "3  q6cA6  2.236060 -0.553760  0.930038  114.572842\n",
       "4  WPMUX -0.515993  1.716266  5.899011  149.600746"
      ]
     },
     "execution_count": 5,
     "metadata": {},
     "output_type": "execute_result"
    }
   ],
   "source": [
    "# Регион \"2\":\n",
    "\n",
    "print(df_2.info())\n",
    "df_2.head()\n"
   ]
  },
  {
   "cell_type": "code",
   "execution_count": 6,
   "metadata": {},
   "outputs": [
    {
     "name": "stdout",
     "output_type": "stream",
     "text": [
      " Количество дубликатов в df_0: 0 \n",
      " Количество дубликатов в df_1: 0 \n",
      " Количество дубликатов в df_2: 0\n"
     ]
    }
   ],
   "source": [
    "# Проверим данные на наличие дубликатов:\n",
    "\n",
    "print(' Количество дубликатов в df_0:', df_0.duplicated().sum(),\n",
    "    '\\n','Количество дубликатов в df_1:', df_1.duplicated().sum(),'\\n','Количество дубликатов в df_2:', df_2.duplicated().sum())"
   ]
  },
  {
   "cell_type": "code",
   "execution_count": 7,
   "metadata": {},
   "outputs": [],
   "source": [
    "# Столбец 'ID' не информативен для модели, удалим его:\n",
    "\n",
    "df_0 = df_0.drop('id', axis=1)\n",
    "df_1 = df_1.drop('id', axis=1)\n",
    "df_2 = df_2.drop('id', axis=1)"
   ]
  },
  {
   "cell_type": "markdown",
   "metadata": {},
   "source": [
    "Мы увидели, что:  \n",
    "* признаки масштабированы  \n",
    "* дубликатов и пропусков нет  \n",
    "* типы данных менять не нужно  \n",
    "* удалим столбец id, так как для обучения моделей он нам не понадобится    \n"
   ]
  },
  {
   "cell_type": "markdown",
   "metadata": {},
   "source": [
    "## Обучение и проверка модели"
   ]
  },
  {
   "cell_type": "markdown",
   "metadata": {},
   "source": [
    "Приступим к обучению модели. Разбъем данные на обучающую и валидационную выборки в соотношении 75:25"
   ]
  },
  {
   "cell_type": "code",
   "execution_count": 8,
   "metadata": {},
   "outputs": [],
   "source": [
    "#Регион \"0\"\n",
    "# Разделим данные на features и target - целевой признак:\n",
    "\n",
    "target_0 = df_0['product']\n",
    "features_0 = df_0.drop('product', axis=1)\n",
    "\n",
    "# Разделим данные на обучающую и валидационную выборку:\n",
    "\n",
    "features_0_train, features_0_valid, target_0_train, target_0_valid = train_test_split(\n",
    "    features_0, target_0, test_size=0.25, random_state=12345)"
   ]
  },
  {
   "cell_type": "code",
   "execution_count": 9,
   "metadata": {},
   "outputs": [],
   "source": [
    "#Регион \"1\"\n",
    "# Разделим данные на features и target - целевой признак:\n",
    "\n",
    "target_1 = df_1['product']\n",
    "features_1 = df_1.drop('product', axis=1)\n",
    "\n",
    "# Разделим данные на обучающую и валидационную выборку:\n",
    "\n",
    "features_1_train, features_1_valid, target_1_train, target_1_valid = train_test_split(\n",
    "    features_1, target_1, test_size=0.25, random_state=12345)"
   ]
  },
  {
   "cell_type": "code",
   "execution_count": 10,
   "metadata": {},
   "outputs": [],
   "source": [
    "#Регион \"2\"\n",
    "# Разделим данные на features и target - целевой признак:\n",
    "\n",
    "target_2 = df_2['product']\n",
    "features_2 = df_2.drop('product', axis=1)\n",
    "\n",
    "# Разделим данные на обучающую и валидационную выборку:\n",
    "\n",
    "features_2_train, features_2_valid, target_2_train, target_2_valid = train_test_split(\n",
    "    features_2, target_2, test_size=0.25, random_state=12345)"
   ]
  },
  {
   "cell_type": "code",
   "execution_count": 11,
   "metadata": {},
   "outputs": [
    {
     "name": "stdout",
     "output_type": "stream",
     "text": [
      "Оценки фактического запаса сырья в месторождении региона \"0\" равны:\n",
      "R2: 0.280\n",
      "MAE: 30.920\n",
      "RMSE: 37.579\n",
      "Средний запас сырья: 92.5\n"
     ]
    }
   ],
   "source": [
    "# Создадим модель линейной регрессии Региона \"0\":\n",
    "\n",
    "model_LR_0 = LinearRegression().fit(features_0_train, target_0_train)\n",
    "\n",
    "predictions_0 = model_LR_0.predict(features_0_valid)\n",
    "\n",
    "print('Оценки фактического запаса сырья в месторождении региона \"0\" равны:')\n",
    "print('R2:','{:.3f}'.format(r2_score(target_0_valid,predictions_0)))\n",
    "print('MAE:','{:.3f}'.format(mean_absolute_error(target_0_valid,predictions_0)))\n",
    "print('RMSE:','{:.3f}'.format(mean_squared_error(target_0_valid,predictions_0)**0.5))\n",
    "print('Средний запас сырья:','{:.1f}'.format(target_0.mean()))"
   ]
  },
  {
   "cell_type": "code",
   "execution_count": 12,
   "metadata": {},
   "outputs": [
    {
     "name": "stdout",
     "output_type": "stream",
     "text": [
      "Оценки фактического запаса сырья в месторождении региона \"1\" равны:\n",
      "R2: 0.9996\n",
      "MAE: 0.719\n",
      "RMSE: 0.893\n",
      "Средний запас сырья: 68.8\n"
     ]
    }
   ],
   "source": [
    "# Создадим модель линейной регрессии Региона \"1\":\n",
    "\n",
    "model_LR_1 = LinearRegression().fit(features_1_train, target_1_train)\n",
    "\n",
    "predictions_1 = model_LR_1.predict(features_1_valid)\n",
    "\n",
    "print('Оценки фактического запаса сырья в месторождении региона \"1\" равны:')\n",
    "print('R2:','{:.4f}'.format(r2_score(target_1_valid,predictions_1)))\n",
    "print('MAE:','{:.3f}'.format(mean_absolute_error(target_1_valid,predictions_1)))\n",
    "print('RMSE:','{:.3f}'.format(mean_squared_error(target_1_valid,predictions_1)**0.5))\n",
    "print('Средний запас сырья:','{:.1f}'.format(target_1.mean()))"
   ]
  },
  {
   "cell_type": "code",
   "execution_count": 13,
   "metadata": {
    "scrolled": true
   },
   "outputs": [
    {
     "name": "stdout",
     "output_type": "stream",
     "text": [
      "Оценки фактического запаса сырья в месторождении региона \"2\" равны:\n",
      "R2: 0.2052\n",
      "MAE: 32.793\n",
      "RMSE: 40.030\n",
      "Средний запас сырья: 95.0\n"
     ]
    }
   ],
   "source": [
    "# Создадим модель линейной регрессии Региона \"2\":\n",
    "\n",
    "model_LR_2 = LinearRegression().fit(features_2_train, target_2_train)\n",
    "\n",
    "predictions_2 = model_LR_2.predict(features_2_valid)\n",
    "\n",
    "print('Оценки фактического запаса сырья в месторождении региона \"2\" равны:')\n",
    "print('R2:','{:.4f}'.format(r2_score(target_2_valid,predictions_2)))\n",
    "print('MAE:','{:.3f}'.format(mean_absolute_error(target_2_valid,predictions_2)))\n",
    "print('RMSE:','{:.3f}'.format(mean_squared_error(target_2_valid,predictions_2)**0.5))\n",
    "print('Средний запас сырья:','{:.1f}'.format(target_2.mean()))\n"
   ]
  },
  {
   "cell_type": "markdown",
   "metadata": {},
   "source": [
    "# Проанализируем результаты  \n",
    "\n",
    "Проверим корреляцию признаков регионов\n",
    "\n"
   ]
  },
  {
   "cell_type": "code",
   "execution_count": 14,
   "metadata": {},
   "outputs": [
    {
     "data": {
      "image/png": "[encoded data removed]",
      "text/plain": [
       "<Figure size 720x576 with 2 Axes>"
      ]
     },
     "metadata": {
      "needs_background": "light"
     },
     "output_type": "display_data"
    }
   ],
   "source": [
    "# Для этого создадим график:\n",
    "\n",
    "plt.figure(figsize=(10,8))\n",
    "sns.heatmap(df_0.loc[:, ['f0','f1','f2','product']].corr(), annot=True, fmt=\".3f\", linewidths=.5,linecolor='pink')\n",
    "plt.title('Корреляция признаков Региона \"0\"')\n",
    "plt.show()"
   ]
  },
  {
   "cell_type": "code",
   "execution_count": 15,
   "metadata": {},
   "outputs": [
    {
     "data": {
      "image/png": "[encoded data removed]",
      "text/plain": [
       "<Figure size 720x576 with 2 Axes>"
      ]
     },
     "metadata": {
      "needs_background": "light"
     },
     "output_type": "display_data"
    }
   ],
   "source": [
    "# Также проверим Регион \"1\":\n",
    "\n",
    "plt.figure(figsize=(10,8))\n",
    "sns.heatmap(df_1.loc[:, ['f0','f1','f2','product']].corr(), annot=True, fmt=\".3f\", linewidths=.5,linecolor='pink')\n",
    "plt.title('Корреляция признаков Региона \"1\"')\n",
    "plt.show()"
   ]
  },
  {
   "cell_type": "code",
   "execution_count": 16,
   "metadata": {},
   "outputs": [
    {
     "data": {
      "image/png": "[encoded data removed]",
      "text/plain": [
       "<Figure size 720x576 with 2 Axes>"
      ]
     },
     "metadata": {
      "needs_background": "light"
     },
     "output_type": "display_data"
    }
   ],
   "source": [
    "# Также проверим Регион \"2\":\n",
    "plt.figure(figsize=(10,8))\n",
    "sns.heatmap(df_2.loc[:, ['f0','f1','f2','product']].corr(), annot=True, fmt=\".3f\", linewidths=.5,linecolor='pink')\n",
    "plt.title('Корреляция признаков Региона \"2\"')\n",
    "plt.show()"
   ]
  },
  {
   "cell_type": "markdown",
   "metadata": {},
   "source": [
    "# Вывод:  \n",
    "\n",
    "* Регион \"0\": Ошибка в  регионе самая маленькая, но по среднему объему запасов регион отстает  \n",
    "* Регион \"1\": Имеет худшие показатели из трех\n",
    "* Регион \"2\": Имеет самый большой запас сырья, но по ошибкам уступает Региону \"0\"  \n",
    "\n",
    "Также можно сделать вывод, что регионы \"0\" и \"2\" имеют похожую корреляцию признаков, а Регион \"1\" имеет корреляцию всех признаков"
   ]
  },
  {
   "cell_type": "markdown",
   "metadata": {},
   "source": [
    "## Подготовка к расчёту прибыли"
   ]
  },
  {
   "cell_type": "markdown",
   "metadata": {},
   "source": [
    "Напомню, что условия задачи таковы:\n",
    "\n",
    "При разведке региона исследуют 500 точек - Min_points, из которых с помощью машинного обучения выбирают 200 лучших для разработки - Max_points.\n",
    "\n",
    "Бюджет на разработку скважин в регионе — 10 млрд рублей - Budget.\n",
    "\n",
    "При нынешних ценах один баррель сырья приносит 450 рублей дохода. Доход с каждой единицы продукта составляет 450 тыс. рублей, поскольку объём указан в тысячах баррелей - Barrel."
   ]
  },
  {
   "cell_type": "code",
   "execution_count": 17,
   "metadata": {},
   "outputs": [],
   "source": [
    "# <эти значения были даны нам в условиях задачи>\n",
    "BARREL = 450000\n",
    "BUDGET = 10_000_000_000\n",
    "MIN_POINTS = 500\n",
    "MAX_POINTS = 200\n",
    "THRESHOLD =  0.025"
   ]
  },
  {
   "cell_type": "markdown",
   "metadata": {},
   "source": [
    "Рассчитаем достаточный объём сырья для безубыточной разработки новой скважины. И сравним полученный объём сырья со средним запасом в каждом регионе."
   ]
  },
  {
   "cell_type": "code",
   "execution_count": 18,
   "metadata": {},
   "outputs": [
    {
     "name": "stdout",
     "output_type": "stream",
     "text": [
      "Минимальное колличество баррелей: 111.11\n"
     ]
    }
   ],
   "source": [
    "min_size = BUDGET / MAX_POINTS / BARREL\n",
    "print('Минимальное колличество баррелей:', round(min_size,2))\n"
   ]
  },
  {
   "cell_type": "markdown",
   "metadata": {},
   "source": [
    "# Посмотрим распределение значений по районам"
   ]
  },
  {
   "cell_type": "code",
   "execution_count": 19,
   "metadata": {},
   "outputs": [
    {
     "name": "stdout",
     "output_type": "stream",
     "text": [
      "В Регионе \"0\", подходящих месторождений: 24999\n"
     ]
    }
   ],
   "source": [
    "predictions_0 = pd.Series(predictions_0)\n",
    "\n",
    "print('В Регионе \"0\", подходящих месторождений:', predictions_0[predictions_0 >= (min_size/1000)].count())"
   ]
  },
  {
   "cell_type": "code",
   "execution_count": 20,
   "metadata": {},
   "outputs": [
    {
     "name": "stdout",
     "output_type": "stream",
     "text": [
      "В Регионе \"1\", подходящих месторождений: 24357\n"
     ]
    }
   ],
   "source": [
    "predictions_1 = pd.Series(predictions_1)\n",
    "\n",
    "print('В Регионе \"1\", подходящих месторождений:', predictions_1[predictions_1 >= (min_size/1000)].count())"
   ]
  },
  {
   "cell_type": "code",
   "execution_count": 21,
   "metadata": {},
   "outputs": [
    {
     "name": "stdout",
     "output_type": "stream",
     "text": [
      "В Регионе \"2\", подходящих месторождений: 25000\n"
     ]
    }
   ],
   "source": [
    "predictions_2 = pd.Series(predictions_2)\n",
    "\n",
    "print('В Регионе \"2\", подходящих месторождений:',predictions_2[predictions_2 >= (min_size/1000)].count())"
   ]
  },
  {
   "cell_type": "markdown",
   "metadata": {},
   "source": [
    "Больше всего в Регионе \"0\" и в Регионе \"2\". "
   ]
  },
  {
   "cell_type": "markdown",
   "metadata": {},
   "source": [
    "# Напишем функцию для расчёта прибыли в полученных месторождениях и предсказания модели"
   ]
  },
  {
   "cell_type": "code",
   "execution_count": 24,
   "metadata": {},
   "outputs": [],
   "source": [
    "def income(true_target, pred_target):\n",
    "    sort_Series = pd.Series(pred_target).sort_values(ascending=False)[:MAX_POINTS]\n",
    "    true_target_sort = (true_target\n",
    "                         .reset_index(drop = True)[sort_Series.index])\n",
    "    sum_true = true_target_sort.sum() \n",
    "    return round((sum_true * BARREL) - BUDGET,2)"
   ]
  },
  {
   "cell_type": "code",
   "execution_count": 25,
   "metadata": {},
   "outputs": [
    {
     "name": "stdout",
     "output_type": "stream",
     "text": [
      "Прибыль с лучших 200 скважин в Регионе \"0\": 3320826043.14\n",
      "Прибыль с лучших 200 скважин в Регионе \"1\": 2415086696.68\n",
      "Прибыль с лучших 200 скважин в Регионе \"2\": 2710349963.6\n"
     ]
    }
   ],
   "source": [
    "print('Прибыль с лучших 200 скважин в Регионе \"0\":',income(target_0_valid,\n",
    "                                                               predictions_0))\n",
    "print('Прибыль с лучших 200 скважин в Регионе \"1\":',income(target_1_valid,\n",
    "                                                               predictions_1))\n",
    "print('Прибыль с лучших 200 скважин в Регионе \"2\":',income(target_2_valid,\n",
    "                                                               predictions_2))"
   ]
  },
  {
   "cell_type": "markdown",
   "metadata": {},
   "source": [
    "# Вывод  \n",
    "\n",
    "Минимальное количество баррелей нефти для безубыточной разработки составило 111.11\n",
    "\n",
    "Распределение объема запасов по регионам проходит минимальный порог в 20%, проходит Регион \"2\" и почти Регион \"0\"\n",
    "\n",
    "При этом расчет прибыли показал убыток на всех месторождениях"
   ]
  },
  {
   "cell_type": "markdown",
   "metadata": {},
   "source": [
    "## Расчёт прибыли и рисков "
   ]
  },
  {
   "cell_type": "markdown",
   "metadata": {},
   "source": [
    "Теперь нужно выбрать сквжины в регионах с максимальными значениями предсказаний. Для этого используем технику Bootstrap"
   ]
  },
  {
   "cell_type": "code",
   "execution_count": 26,
   "metadata": {},
   "outputs": [],
   "source": [
    "def bootstrap(true_target,pred_target):\n",
    "    samples = []\n",
    "    for i in tqdm(range(1000)):\n",
    "        sample = pd.Series(pred_target).sample(n = MIN_POINTS, replace=True, random_state=state)\n",
    "        samples.append(income(true_target,sample))\n",
    "    samples = pd.Series(samples)\n",
    "   \n",
    "    print(samples.apply(lambda x: x < 0).sum()/len(samples)*100,\"%\")\n",
    "    \n",
    "    lower = samples.quantile(0.025)\n",
    "    upper = samples.quantile(0.975)\n",
    "    return round(lower,2), round(upper,2)"
   ]
  },
  {
   "cell_type": "code",
   "execution_count": 27,
   "metadata": {
    "scrolled": true
   },
   "outputs": [
    {
     "name": "stderr",
     "output_type": "stream",
     "text": [
      "100%|██████████| 1000/1000 [00:01<00:00, 902.43it/s]\n"
     ]
    },
    {
     "name": "stdout",
     "output_type": "stream",
     "text": [
      "6.9 %\n",
      "95% доверительный интервал для Региона \"0\" лежит между: (-111215545.89, 909766941.55)\n"
     ]
    },
    {
     "name": "stderr",
     "output_type": "stream",
     "text": [
      "100%|██████████| 1000/1000 [00:00<00:00, 1003.01it/s]\n"
     ]
    },
    {
     "name": "stdout",
     "output_type": "stream",
     "text": [
      "0.7000000000000001 %\n",
      "95% Доверительный интервал для Региона \"1\" лежит между: (78050810.75, 862952060.26)\n"
     ]
    },
    {
     "name": "stderr",
     "output_type": "stream",
     "text": [
      "100%|██████████| 1000/1000 [00:01<00:00, 958.86it/s]"
     ]
    },
    {
     "name": "stdout",
     "output_type": "stream",
     "text": [
      "6.5 %\n",
      "95% Доверительный интервал для Региона \"2\" лежит между: (-112227625.38, 934562914.55)\n"
     ]
    },
    {
     "name": "stderr",
     "output_type": "stream",
     "text": [
      "\n"
     ]
    }
   ],
   "source": [
    "print('95% доверительный интервал для Региона \"0\" лежит между:',\n",
    "      bootstrap(target_0_valid,pd.Series(predictions_0)))\n",
    "\n",
    "print('95% Доверительный интервал для Региона \"1\" лежит между:',\n",
    "      bootstrap(target_1_valid,predictions_1))\n",
    "\n",
    "print('95% Доверительный интервал для Региона \"2\" лежит между:',\n",
    "      bootstrap(target_2_valid,predictions_2))"
   ]
  },
  {
   "cell_type": "markdown",
   "metadata": {},
   "source": [
    "## ОБЩИЙ ВЫВОД\n",
    "\n",
    "Итого мы получили:  \n",
    "\n",
    "# Регион \"0\"  \n",
    "\n",
    "* Средний запас сырья: 92.5\n",
    "* Подходящие месторождения: 24999\n",
    "* Средняя прибыль: 3 320 826 043.14\n",
    "* Границы доверительного интервала: -111 215 545.89, 909 766 941.55\n",
    "* Риск убытков: 6.9 %\n",
    "\n",
    "\n",
    "# Регион \"1\"\n",
    "\n",
    "* Средний запас сырья: 68.8\n",
    "* Подходящие месторождения: 24461\n",
    "* Средняя прибыль: 2 415 086 696.68\n",
    "* Границы доверительного интервала: 78 050 810.75, 86 2952 060.26\n",
    "* Риск убытков: 0.7 %\n",
    "\n",
    "# Регион \"2\"  \n",
    "\n",
    "* Средний запас сырья: 95.0\n",
    "* Подходящие месторождения: 25000\n",
    "* Средняя прибыль: 2 710 349 963.6\n",
    "* Границы доверительного интервала: -112 227 625.38, 934 562 914.55\n",
    "* Риск убытков: 6.5 %\n",
    "\n",
    "Учитывая полученные результаты, выбор очевиден - Регион \"1\", помимо самых низких показателей риска убытков стоит выбрать его и по причине самых узких границ доверительного интервала, что указывает на точность оценки.\n"
   ]
  }
 ],
 "metadata": {
  "ExecuteTimeLog": [
   {
    "duration": 4,
    "start_time": "2022-12-13T16:24:50.467Z"
   },
   {
    "duration": 1686,
    "start_time": "2022-12-13T16:52:27.674Z"
   },
   {
    "duration": 2190,
    "start_time": "2022-12-13T16:52:29.363Z"
   },
   {
    "duration": 30,
    "start_time": "2022-12-13T16:52:31.555Z"
   },
   {
    "duration": 20,
    "start_time": "2022-12-13T16:52:32.740Z"
   },
   {
    "duration": 24,
    "start_time": "2022-12-13T16:52:33.449Z"
   },
   {
    "duration": 13,
    "start_time": "2022-12-13T16:52:34.970Z"
   },
   {
    "duration": 17,
    "start_time": "2022-12-13T16:52:37.363Z"
   },
   {
    "duration": 18,
    "start_time": "2022-12-13T16:52:37.849Z"
   },
   {
    "duration": 18,
    "start_time": "2022-12-13T16:52:38.272Z"
   },
   {
    "duration": 106,
    "start_time": "2022-12-13T16:52:38.758Z"
   },
   {
    "duration": 24,
    "start_time": "2022-12-13T16:52:39.108Z"
   },
   {
    "duration": 22,
    "start_time": "2022-12-13T16:52:39.484Z"
   },
   {
    "duration": 137,
    "start_time": "2022-12-13T16:52:40.260Z"
   },
   {
    "duration": 390,
    "start_time": "2022-12-13T16:52:40.614Z"
   },
   {
    "duration": 367,
    "start_time": "2022-12-13T16:52:41.348Z"
   },
   {
    "duration": 400,
    "start_time": "2022-12-13T16:52:41.718Z"
   },
   {
    "duration": 3,
    "start_time": "2022-12-13T16:52:43.281Z"
   },
   {
    "duration": 4,
    "start_time": "2022-12-13T16:52:44.039Z"
   },
   {
    "duration": 7,
    "start_time": "2022-12-13T16:52:44.765Z"
   },
   {
    "duration": 6,
    "start_time": "2022-12-13T16:52:45.105Z"
   },
   {
    "duration": 5,
    "start_time": "2022-12-13T16:52:45.480Z"
   },
   {
    "duration": 5,
    "start_time": "2022-12-13T16:52:46.205Z"
   },
   {
    "duration": 4,
    "start_time": "2022-12-13T16:52:47.531Z"
   },
   {
    "duration": 87,
    "start_time": "2022-12-13T16:52:47.947Z"
   },
   {
    "duration": 849,
    "start_time": "2022-12-13T16:52:48.548Z"
   },
   {
    "duration": 833,
    "start_time": "2022-12-13T16:52:49.399Z"
   },
   {
    "duration": 780,
    "start_time": "2022-12-13T16:52:50.233Z"
   },
   {
    "duration": 764,
    "start_time": "2022-12-13T16:52:51.015Z"
   },
   {
    "duration": 1558,
    "start_time": "2022-12-16T11:13:55.413Z"
   },
   {
    "duration": 602,
    "start_time": "2022-12-16T11:16:03.859Z"
   },
   {
    "duration": 28,
    "start_time": "2022-12-16T11:16:56.675Z"
   },
   {
    "duration": 22,
    "start_time": "2022-12-16T11:18:48.175Z"
   },
   {
    "duration": 23,
    "start_time": "2022-12-16T11:23:07.333Z"
   },
   {
    "duration": 23,
    "start_time": "2022-12-16T11:23:32.910Z"
   },
   {
    "duration": 5,
    "start_time": "2022-12-16T11:29:32.993Z"
   },
   {
    "duration": 113,
    "start_time": "2022-12-16T11:32:21.503Z"
   },
   {
    "duration": 60,
    "start_time": "2022-12-16T11:34:04.732Z"
   },
   {
    "duration": 48,
    "start_time": "2022-12-16T11:34:23.795Z"
   },
   {
    "duration": 143,
    "start_time": "2022-12-16T11:34:51.469Z"
   },
   {
    "duration": 51,
    "start_time": "2022-12-16T11:35:07.656Z"
   },
   {
    "duration": 58,
    "start_time": "2022-12-16T11:35:13.298Z"
   },
   {
    "duration": 80,
    "start_time": "2022-12-16T11:35:43.777Z"
   },
   {
    "duration": 42,
    "start_time": "2022-12-16T11:36:08.956Z"
   },
   {
    "duration": 52,
    "start_time": "2022-12-16T11:36:48.442Z"
   },
   {
    "duration": 48,
    "start_time": "2022-12-16T11:36:54.140Z"
   },
   {
    "duration": 137,
    "start_time": "2022-12-16T11:37:37.437Z"
   },
   {
    "duration": 156,
    "start_time": "2022-12-16T11:37:48.991Z"
   },
   {
    "duration": 183,
    "start_time": "2022-12-16T11:38:00.827Z"
   },
   {
    "duration": 13,
    "start_time": "2022-12-16T11:40:42.532Z"
   },
   {
    "duration": 16,
    "start_time": "2022-12-16T11:41:47.099Z"
   },
   {
    "duration": 20,
    "start_time": "2022-12-16T11:42:42.898Z"
   },
   {
    "duration": 17,
    "start_time": "2022-12-16T11:43:34.623Z"
   },
   {
    "duration": 18,
    "start_time": "2022-12-16T11:44:19.230Z"
   },
   {
    "duration": 202,
    "start_time": "2022-12-16T11:47:13.277Z"
   },
   {
    "duration": 25,
    "start_time": "2022-12-16T11:47:59.970Z"
   },
   {
    "duration": 23,
    "start_time": "2022-12-16T11:48:26.821Z"
   },
   {
    "duration": 26,
    "start_time": "2022-12-16T11:49:11.307Z"
   },
   {
    "duration": 23,
    "start_time": "2022-12-16T11:49:17.457Z"
   },
   {
    "duration": 375,
    "start_time": "2022-12-16T11:56:11.383Z"
   },
   {
    "duration": 369,
    "start_time": "2022-12-16T11:57:32.460Z"
   },
   {
    "duration": 374,
    "start_time": "2022-12-16T11:59:58.462Z"
   },
   {
    "duration": 472,
    "start_time": "2022-12-16T12:00:06.370Z"
   },
   {
    "duration": 419,
    "start_time": "2022-12-16T12:01:21.615Z"
   },
   {
    "duration": 380,
    "start_time": "2022-12-16T12:03:05.960Z"
   },
   {
    "duration": 367,
    "start_time": "2022-12-16T12:03:12.760Z"
   },
   {
    "duration": 357,
    "start_time": "2022-12-16T12:05:59.478Z"
   },
   {
    "duration": 474,
    "start_time": "2022-12-16T12:11:35.842Z"
   },
   {
    "duration": 459,
    "start_time": "2022-12-16T12:11:57.077Z"
   },
   {
    "duration": 432,
    "start_time": "2022-12-16T12:12:04.653Z"
   },
   {
    "duration": 3,
    "start_time": "2022-12-16T12:22:57.299Z"
   },
   {
    "duration": 4,
    "start_time": "2022-12-16T12:24:35.994Z"
   },
   {
    "duration": 3,
    "start_time": "2022-12-16T12:26:24.777Z"
   },
   {
    "duration": 13,
    "start_time": "2022-12-16T12:26:51.768Z"
   },
   {
    "duration": 4,
    "start_time": "2022-12-16T12:27:39.911Z"
   },
   {
    "duration": 13,
    "start_time": "2022-12-16T12:30:31.800Z"
   },
   {
    "duration": 4,
    "start_time": "2022-12-16T12:30:34.163Z"
   },
   {
    "duration": 4,
    "start_time": "2022-12-16T12:30:36.028Z"
   },
   {
    "duration": 5,
    "start_time": "2022-12-16T12:30:59.940Z"
   },
   {
    "duration": 4,
    "start_time": "2022-12-16T12:31:43.227Z"
   },
   {
    "duration": 5,
    "start_time": "2022-12-16T12:31:48.760Z"
   },
   {
    "duration": 4,
    "start_time": "2022-12-16T12:32:16.458Z"
   },
   {
    "duration": 5,
    "start_time": "2022-12-16T12:33:17.430Z"
   },
   {
    "duration": 9,
    "start_time": "2022-12-16T12:33:25.885Z"
   },
   {
    "duration": 3,
    "start_time": "2022-12-16T12:34:12.960Z"
   },
   {
    "duration": 5,
    "start_time": "2022-12-16T12:34:43.329Z"
   },
   {
    "duration": 4,
    "start_time": "2022-12-16T12:34:55.083Z"
   },
   {
    "duration": 4,
    "start_time": "2022-12-16T12:35:36.245Z"
   },
   {
    "duration": 4,
    "start_time": "2022-12-16T12:35:40.871Z"
   },
   {
    "duration": 12,
    "start_time": "2022-12-16T12:38:30.307Z"
   },
   {
    "duration": 7,
    "start_time": "2022-12-16T12:38:37.713Z"
   },
   {
    "duration": 6,
    "start_time": "2022-12-16T12:38:50.294Z"
   },
   {
    "duration": 8,
    "start_time": "2022-12-16T12:38:58.837Z"
   },
   {
    "duration": 6,
    "start_time": "2022-12-16T12:41:45.249Z"
   },
   {
    "duration": 49,
    "start_time": "2022-12-16T12:42:07.718Z"
   },
   {
    "duration": 6,
    "start_time": "2022-12-16T12:42:17.065Z"
   },
   {
    "duration": 38,
    "start_time": "2022-12-16T12:46:16.405Z"
   },
   {
    "duration": 6,
    "start_time": "2022-12-16T12:46:25.148Z"
   },
   {
    "duration": 6,
    "start_time": "2022-12-16T12:46:26.711Z"
   },
   {
    "duration": 6,
    "start_time": "2022-12-16T12:46:27.677Z"
   },
   {
    "duration": 3,
    "start_time": "2022-12-16T12:51:43.137Z"
   },
   {
    "duration": 14,
    "start_time": "2022-12-16T12:55:09.758Z"
   },
   {
    "duration": 4,
    "start_time": "2022-12-16T12:57:02.259Z"
   },
   {
    "duration": 5,
    "start_time": "2022-12-16T13:00:51.873Z"
   },
   {
    "duration": 5,
    "start_time": "2022-12-16T13:07:19.761Z"
   },
   {
    "duration": 6,
    "start_time": "2022-12-16T13:07:58.228Z"
   },
   {
    "duration": 15,
    "start_time": "2022-12-16T13:08:13.391Z"
   },
   {
    "duration": 6,
    "start_time": "2022-12-16T13:09:11.737Z"
   },
   {
    "duration": 886,
    "start_time": "2022-12-16T13:09:16.151Z"
   },
   {
    "duration": 51,
    "start_time": "2022-12-16T13:10:37.389Z"
   },
   {
    "duration": 838,
    "start_time": "2022-12-16T13:10:52.254Z"
   },
   {
    "duration": 883,
    "start_time": "2022-12-16T13:12:54.429Z"
   },
   {
    "duration": 828,
    "start_time": "2022-12-16T13:16:14.686Z"
   },
   {
    "duration": 836,
    "start_time": "2022-12-16T13:16:56.769Z"
   },
   {
    "duration": 5,
    "start_time": "2022-12-16T13:22:59.946Z"
   },
   {
    "duration": 862,
    "start_time": "2022-12-16T13:23:01.584Z"
   },
   {
    "duration": 905,
    "start_time": "2022-12-16T13:23:09.369Z"
   },
   {
    "duration": 865,
    "start_time": "2022-12-16T13:23:11.087Z"
   },
   {
    "duration": 4,
    "start_time": "2022-12-16T13:42:29.994Z"
   },
   {
    "duration": 370,
    "start_time": "2022-12-16T13:42:39.448Z"
   },
   {
    "duration": 20,
    "start_time": "2022-12-16T13:42:44.149Z"
   },
   {
    "duration": 21,
    "start_time": "2022-12-16T13:42:57.069Z"
   },
   {
    "duration": 22,
    "start_time": "2022-12-16T13:43:00.893Z"
   },
   {
    "duration": 22,
    "start_time": "2022-12-16T13:43:12.947Z"
   },
   {
    "duration": 140,
    "start_time": "2022-12-16T13:43:52.900Z"
   },
   {
    "duration": 82,
    "start_time": "2022-12-16T13:45:13.735Z"
   },
   {
    "duration": 141,
    "start_time": "2022-12-16T13:45:33.115Z"
   },
   {
    "duration": 134,
    "start_time": "2022-12-16T13:45:57.118Z"
   },
   {
    "duration": 142,
    "start_time": "2022-12-16T13:46:09.590Z"
   },
   {
    "duration": 142,
    "start_time": "2022-12-16T13:46:15.814Z"
   },
   {
    "duration": 127,
    "start_time": "2022-12-16T13:46:23.773Z"
   },
   {
    "duration": 13,
    "start_time": "2022-12-16T13:46:27.326Z"
   },
   {
    "duration": 17,
    "start_time": "2022-12-16T13:46:53.660Z"
   },
   {
    "duration": 13,
    "start_time": "2022-12-16T13:47:35.600Z"
   },
   {
    "duration": 14,
    "start_time": "2022-12-16T13:47:36.763Z"
   },
   {
    "duration": 14,
    "start_time": "2022-12-16T13:47:37.543Z"
   },
   {
    "duration": 18,
    "start_time": "2022-12-16T13:47:42.449Z"
   },
   {
    "duration": 19,
    "start_time": "2022-12-16T13:47:49.227Z"
   },
   {
    "duration": 19,
    "start_time": "2022-12-16T13:47:52.641Z"
   },
   {
    "duration": 344,
    "start_time": "2022-12-16T13:48:13.216Z"
   },
   {
    "duration": 370,
    "start_time": "2022-12-16T13:48:18.404Z"
   },
   {
    "duration": 330,
    "start_time": "2022-12-16T13:48:24.000Z"
   },
   {
    "duration": 3,
    "start_time": "2022-12-16T13:53:38.984Z"
   },
   {
    "duration": 4,
    "start_time": "2022-12-16T13:53:40.917Z"
   },
   {
    "duration": 3,
    "start_time": "2022-12-16T13:54:11.085Z"
   },
   {
    "duration": 4,
    "start_time": "2022-12-16T13:54:18.558Z"
   },
   {
    "duration": 5,
    "start_time": "2022-12-16T13:54:25.186Z"
   },
   {
    "duration": 6,
    "start_time": "2022-12-16T13:54:29.225Z"
   },
   {
    "duration": 5,
    "start_time": "2022-12-16T13:54:32.491Z"
   },
   {
    "duration": 4,
    "start_time": "2022-12-16T13:54:37.802Z"
   },
   {
    "duration": 5,
    "start_time": "2022-12-16T13:55:33.392Z"
   },
   {
    "duration": 850,
    "start_time": "2022-12-16T13:55:34.542Z"
   },
   {
    "duration": 846,
    "start_time": "2022-12-16T13:55:41.615Z"
   },
   {
    "duration": 858,
    "start_time": "2022-12-16T13:55:48.960Z"
   },
   {
    "duration": 6500,
    "start_time": "2022-12-16T15:01:03.920Z"
   },
   {
    "duration": 452,
    "start_time": "2022-12-16T15:01:10.422Z"
   },
   {
    "duration": 30,
    "start_time": "2022-12-16T15:01:10.876Z"
   },
   {
    "duration": 25,
    "start_time": "2022-12-16T15:01:10.908Z"
   },
   {
    "duration": 54,
    "start_time": "2022-12-16T15:01:10.935Z"
   },
   {
    "duration": 181,
    "start_time": "2022-12-16T15:01:10.991Z"
   },
   {
    "duration": 13,
    "start_time": "2022-12-16T15:01:11.179Z"
   },
   {
    "duration": 30,
    "start_time": "2022-12-16T15:01:11.194Z"
   },
   {
    "duration": 55,
    "start_time": "2022-12-16T15:01:11.226Z"
   },
   {
    "duration": 101,
    "start_time": "2022-12-16T15:01:11.284Z"
   },
   {
    "duration": 194,
    "start_time": "2022-12-16T15:01:11.388Z"
   },
   {
    "duration": 94,
    "start_time": "2022-12-16T15:01:11.585Z"
   },
   {
    "duration": 197,
    "start_time": "2022-12-16T15:01:11.681Z"
   },
   {
    "duration": 559,
    "start_time": "2022-12-16T15:01:11.880Z"
   },
   {
    "duration": 388,
    "start_time": "2022-12-16T15:01:12.441Z"
   },
   {
    "duration": 395,
    "start_time": "2022-12-16T15:01:12.830Z"
   },
   {
    "duration": 3,
    "start_time": "2022-12-16T15:01:13.227Z"
   },
   {
    "duration": 8,
    "start_time": "2022-12-16T15:01:13.231Z"
   },
   {
    "duration": 8,
    "start_time": "2022-12-16T15:01:13.241Z"
   },
   {
    "duration": 6,
    "start_time": "2022-12-16T15:01:13.251Z"
   },
   {
    "duration": 23,
    "start_time": "2022-12-16T15:01:13.258Z"
   },
   {
    "duration": 5,
    "start_time": "2022-12-16T15:01:13.283Z"
   },
   {
    "duration": 115,
    "start_time": "2022-12-16T15:01:13.290Z"
   },
   {
    "duration": 927,
    "start_time": "2022-12-16T15:01:13.407Z"
   },
   {
    "duration": 912,
    "start_time": "2022-12-16T15:01:14.336Z"
   },
   {
    "duration": 913,
    "start_time": "2022-12-16T15:01:15.251Z"
   },
   {
    "duration": 4,
    "start_time": "2022-12-16T15:03:31.850Z"
   },
   {
    "duration": 4,
    "start_time": "2022-12-16T15:03:36.950Z"
   },
   {
    "duration": 4,
    "start_time": "2022-12-16T15:03:43.510Z"
   },
   {
    "duration": 6,
    "start_time": "2022-12-16T15:03:51.890Z"
   },
   {
    "duration": 4,
    "start_time": "2022-12-16T15:06:09.395Z"
   },
   {
    "duration": 5,
    "start_time": "2022-12-16T15:06:10.441Z"
   },
   {
    "duration": 11,
    "start_time": "2022-12-16T15:06:11.121Z"
   },
   {
    "duration": 4,
    "start_time": "2022-12-16T15:06:25.907Z"
   },
   {
    "duration": 5,
    "start_time": "2022-12-16T15:06:26.805Z"
   },
   {
    "duration": 12,
    "start_time": "2022-12-16T15:06:27.304Z"
   },
   {
    "duration": 4,
    "start_time": "2022-12-16T15:06:33.574Z"
   },
   {
    "duration": 4,
    "start_time": "2022-12-16T15:06:40.604Z"
   },
   {
    "duration": 6,
    "start_time": "2022-12-16T15:06:41.294Z"
   },
   {
    "duration": 12,
    "start_time": "2022-12-16T15:06:41.465Z"
   },
   {
    "duration": 121,
    "start_time": "2022-12-16T15:07:08.364Z"
   },
   {
    "duration": 5,
    "start_time": "2022-12-16T15:07:21.815Z"
   },
   {
    "duration": 3,
    "start_time": "2022-12-16T15:07:26.275Z"
   },
   {
    "duration": 46,
    "start_time": "2022-12-16T15:07:44.018Z"
   },
   {
    "duration": 4,
    "start_time": "2022-12-16T15:07:50.624Z"
   },
   {
    "duration": 6,
    "start_time": "2022-12-16T15:07:51.365Z"
   },
   {
    "duration": 12,
    "start_time": "2022-12-16T15:07:51.525Z"
   },
   {
    "duration": 5,
    "start_time": "2022-12-16T15:08:56.506Z"
   },
   {
    "duration": 1265,
    "start_time": "2022-12-16T15:08:56.695Z"
   },
   {
    "duration": 1353,
    "start_time": "2022-12-16T15:08:57.962Z"
   },
   {
    "duration": 1340,
    "start_time": "2022-12-16T15:08:59.317Z"
   },
   {
    "duration": 4,
    "start_time": "2022-12-16T15:09:01.635Z"
   },
   {
    "duration": 5,
    "start_time": "2022-12-16T15:09:02.401Z"
   },
   {
    "duration": 897,
    "start_time": "2022-12-16T15:09:02.563Z"
   },
   {
    "duration": 881,
    "start_time": "2022-12-16T15:09:03.462Z"
   },
   {
    "duration": 883,
    "start_time": "2022-12-16T15:09:04.344Z"
   },
   {
    "duration": 1645,
    "start_time": "2022-12-17T11:53:36.751Z"
   },
   {
    "duration": 680,
    "start_time": "2022-12-17T11:53:40.423Z"
   },
   {
    "duration": 28,
    "start_time": "2022-12-17T11:53:42.599Z"
   },
   {
    "duration": 21,
    "start_time": "2022-12-17T11:53:44.968Z"
   },
   {
    "duration": 20,
    "start_time": "2022-12-17T11:53:46.169Z"
   },
   {
    "duration": 133,
    "start_time": "2022-12-17T11:53:49.332Z"
   },
   {
    "duration": 12,
    "start_time": "2022-12-17T11:53:50.270Z"
   },
   {
    "duration": 15,
    "start_time": "2022-12-17T11:54:02.439Z"
   },
   {
    "duration": 17,
    "start_time": "2022-12-17T11:54:03.161Z"
   },
   {
    "duration": 16,
    "start_time": "2022-12-17T11:54:05.022Z"
   },
   {
    "duration": 82,
    "start_time": "2022-12-17T11:54:06.705Z"
   },
   {
    "duration": 21,
    "start_time": "2022-12-17T11:54:07.455Z"
   },
   {
    "duration": 24,
    "start_time": "2022-12-17T11:54:13.075Z"
   },
   {
    "duration": 382,
    "start_time": "2022-12-17T11:54:17.248Z"
   },
   {
    "duration": 330,
    "start_time": "2022-12-17T11:54:20.281Z"
   },
   {
    "duration": 356,
    "start_time": "2022-12-17T11:54:21.576Z"
   },
   {
    "duration": 4,
    "start_time": "2022-12-17T11:55:32.696Z"
   },
   {
    "duration": 3,
    "start_time": "2022-12-17T11:56:02.670Z"
   },
   {
    "duration": 4,
    "start_time": "2022-12-17T11:56:10.612Z"
   },
   {
    "duration": 7,
    "start_time": "2022-12-17T11:56:24.724Z"
   },
   {
    "duration": 5,
    "start_time": "2022-12-17T11:56:28.160Z"
   },
   {
    "duration": 5,
    "start_time": "2022-12-17T11:56:30.551Z"
   },
   {
    "duration": 4,
    "start_time": "2022-12-17T12:00:33.750Z"
   },
   {
    "duration": 4,
    "start_time": "2022-12-17T12:08:00.466Z"
   },
   {
    "duration": 4,
    "start_time": "2022-12-17T12:15:35.687Z"
   },
   {
    "duration": 17,
    "start_time": "2022-12-17T12:20:27.738Z"
   },
   {
    "duration": 4,
    "start_time": "2022-12-17T12:20:50.493Z"
   },
   {
    "duration": 17,
    "start_time": "2022-12-17T12:20:51.040Z"
   },
   {
    "duration": 56,
    "start_time": "2022-12-17T12:22:35.929Z"
   },
   {
    "duration": 55,
    "start_time": "2022-12-17T12:23:30.152Z"
   },
   {
    "duration": 20,
    "start_time": "2022-12-17T12:23:44.872Z"
   },
   {
    "duration": 84,
    "start_time": "2022-12-17T12:24:45.096Z"
   },
   {
    "duration": 113,
    "start_time": "2022-12-17T12:24:52.229Z"
   },
   {
    "duration": 5,
    "start_time": "2022-12-17T12:25:33.600Z"
   },
   {
    "duration": 14,
    "start_time": "2022-12-17T12:25:40.386Z"
   },
   {
    "duration": 15,
    "start_time": "2022-12-17T12:25:54.039Z"
   },
   {
    "duration": 5,
    "start_time": "2022-12-17T12:31:18.129Z"
   },
   {
    "duration": 15,
    "start_time": "2022-12-17T12:31:23.210Z"
   },
   {
    "duration": 6,
    "start_time": "2022-12-17T12:31:45.815Z"
   },
   {
    "duration": 18,
    "start_time": "2022-12-17T12:31:48.376Z"
   },
   {
    "duration": 14,
    "start_time": "2022-12-17T12:32:10.112Z"
   },
   {
    "duration": 14,
    "start_time": "2022-12-17T12:32:15.724Z"
   },
   {
    "duration": 5,
    "start_time": "2022-12-17T12:57:31.807Z"
   },
   {
    "duration": 5,
    "start_time": "2022-12-17T12:57:42.998Z"
   },
   {
    "duration": 393,
    "start_time": "2022-12-17T12:57:45.278Z"
   },
   {
    "duration": 21,
    "start_time": "2022-12-17T12:57:46.219Z"
   },
   {
    "duration": 21,
    "start_time": "2022-12-17T12:57:46.722Z"
   },
   {
    "duration": 20,
    "start_time": "2022-12-17T12:57:47.239Z"
   },
   {
    "duration": 132,
    "start_time": "2022-12-17T12:57:47.794Z"
   },
   {
    "duration": 13,
    "start_time": "2022-12-17T12:57:48.466Z"
   },
   {
    "duration": 15,
    "start_time": "2022-12-17T12:57:53.418Z"
   },
   {
    "duration": 17,
    "start_time": "2022-12-17T12:57:54.258Z"
   },
   {
    "duration": 16,
    "start_time": "2022-12-17T12:57:54.850Z"
   },
   {
    "duration": 24,
    "start_time": "2022-12-17T12:57:55.442Z"
   },
   {
    "duration": 19,
    "start_time": "2022-12-17T12:57:56.019Z"
   },
   {
    "duration": 18,
    "start_time": "2022-12-17T12:57:56.659Z"
   },
   {
    "duration": 349,
    "start_time": "2022-12-17T12:57:58.402Z"
   },
   {
    "duration": 327,
    "start_time": "2022-12-17T12:57:58.997Z"
   },
   {
    "duration": 332,
    "start_time": "2022-12-17T12:57:59.596Z"
   },
   {
    "duration": 3,
    "start_time": "2022-12-17T12:58:08.978Z"
   },
   {
    "duration": 3,
    "start_time": "2022-12-17T12:58:17.759Z"
   },
   {
    "duration": 6,
    "start_time": "2022-12-17T12:58:20.673Z"
   },
   {
    "duration": 5,
    "start_time": "2022-12-17T12:58:21.662Z"
   },
   {
    "duration": 5,
    "start_time": "2022-12-17T12:58:27.773Z"
   },
   {
    "duration": 5,
    "start_time": "2022-12-17T12:58:32.797Z"
   },
   {
    "duration": 5,
    "start_time": "2022-12-17T12:58:33.713Z"
   },
   {
    "duration": 2,
    "start_time": "2022-12-17T12:58:35.997Z"
   },
   {
    "duration": 4,
    "start_time": "2022-12-17T12:58:36.613Z"
   },
   {
    "duration": 17,
    "start_time": "2022-12-17T12:58:37.923Z"
   },
   {
    "duration": 5,
    "start_time": "2022-12-17T13:03:48.908Z"
   },
   {
    "duration": 4,
    "start_time": "2022-12-17T13:06:40.484Z"
   },
   {
    "duration": 10,
    "start_time": "2022-12-17T13:06:42.500Z"
   },
   {
    "duration": 5,
    "start_time": "2022-12-17T13:07:43.460Z"
   },
   {
    "duration": 13,
    "start_time": "2022-12-17T13:07:44.515Z"
   },
   {
    "duration": 9,
    "start_time": "2022-12-17T13:08:52.888Z"
   },
   {
    "duration": 385,
    "start_time": "2022-12-17T13:08:53.931Z"
   },
   {
    "duration": 23,
    "start_time": "2022-12-17T13:08:54.482Z"
   },
   {
    "duration": 23,
    "start_time": "2022-12-17T13:08:54.737Z"
   },
   {
    "duration": 23,
    "start_time": "2022-12-17T13:08:55.014Z"
   },
   {
    "duration": 146,
    "start_time": "2022-12-17T13:08:55.262Z"
   },
   {
    "duration": 9,
    "start_time": "2022-12-17T13:08:55.513Z"
   },
   {
    "duration": 13,
    "start_time": "2022-12-17T13:08:56.749Z"
   },
   {
    "duration": 13,
    "start_time": "2022-12-17T13:08:56.995Z"
   },
   {
    "duration": 14,
    "start_time": "2022-12-17T13:08:57.262Z"
   },
   {
    "duration": 21,
    "start_time": "2022-12-17T13:08:57.517Z"
   },
   {
    "duration": 18,
    "start_time": "2022-12-17T13:08:57.765Z"
   },
   {
    "duration": 20,
    "start_time": "2022-12-17T13:08:58.035Z"
   },
   {
    "duration": 346,
    "start_time": "2022-12-17T13:08:58.785Z"
   },
   {
    "duration": 320,
    "start_time": "2022-12-17T13:08:59.281Z"
   },
   {
    "duration": 331,
    "start_time": "2022-12-17T13:08:59.689Z"
   },
   {
    "duration": 3,
    "start_time": "2022-12-17T13:09:01.538Z"
   },
   {
    "duration": 3,
    "start_time": "2022-12-17T13:09:03.136Z"
   },
   {
    "duration": 5,
    "start_time": "2022-12-17T13:09:04.734Z"
   },
   {
    "duration": 5,
    "start_time": "2022-12-17T13:09:05.100Z"
   },
   {
    "duration": 6,
    "start_time": "2022-12-17T13:09:05.364Z"
   },
   {
    "duration": 3,
    "start_time": "2022-12-17T13:09:06.127Z"
   },
   {
    "duration": 4,
    "start_time": "2022-12-17T13:09:06.402Z"
   },
   {
    "duration": 17,
    "start_time": "2022-12-17T13:09:07.123Z"
   },
   {
    "duration": 3,
    "start_time": "2022-12-17T13:09:09.492Z"
   },
   {
    "duration": 4,
    "start_time": "2022-12-17T13:09:10.030Z"
   },
   {
    "duration": 3183,
    "start_time": "2022-12-17T13:09:10.507Z"
   },
   {
    "duration": 4,
    "start_time": "2022-12-17T13:11:06.501Z"
   },
   {
    "duration": 18,
    "start_time": "2022-12-17T13:11:07.958Z"
   },
   {
    "duration": 5,
    "start_time": "2022-12-17T13:11:45.381Z"
   },
   {
    "duration": 3276,
    "start_time": "2022-12-17T13:11:46.523Z"
   },
   {
    "duration": 3162,
    "start_time": "2022-12-17T13:15:24.463Z"
   },
   {
    "duration": 4,
    "start_time": "2022-12-17T13:20:51.950Z"
   },
   {
    "duration": 3184,
    "start_time": "2022-12-17T13:20:54.569Z"
   },
   {
    "duration": 4,
    "start_time": "2022-12-17T13:24:33.070Z"
   },
   {
    "duration": 4,
    "start_time": "2022-12-17T13:24:34.472Z"
   },
   {
    "duration": 5,
    "start_time": "2022-12-17T13:24:35.532Z"
   },
   {
    "duration": 5,
    "start_time": "2022-12-17T13:24:35.931Z"
   },
   {
    "duration": 5,
    "start_time": "2022-12-17T13:24:36.285Z"
   },
   {
    "duration": 4,
    "start_time": "2022-12-17T13:24:37.475Z"
   },
   {
    "duration": 20,
    "start_time": "2022-12-17T13:24:38.251Z"
   },
   {
    "duration": 5,
    "start_time": "2022-12-17T13:24:47.807Z"
   },
   {
    "duration": 3297,
    "start_time": "2022-12-17T13:24:51.191Z"
   },
   {
    "duration": 5,
    "start_time": "2022-12-17T13:31:26.884Z"
   },
   {
    "duration": 1067,
    "start_time": "2022-12-17T13:31:28.648Z"
   },
   {
    "duration": 4,
    "start_time": "2022-12-17T13:31:41.521Z"
   },
   {
    "duration": 3199,
    "start_time": "2022-12-17T13:31:44.682Z"
   },
   {
    "duration": 2743,
    "start_time": "2022-12-17T19:14:55.241Z"
   },
   {
    "duration": 633,
    "start_time": "2022-12-17T19:14:57.987Z"
   },
   {
    "duration": 24,
    "start_time": "2022-12-17T19:14:58.622Z"
   },
   {
    "duration": 20,
    "start_time": "2022-12-17T19:14:58.647Z"
   },
   {
    "duration": 19,
    "start_time": "2022-12-17T19:14:58.669Z"
   },
   {
    "duration": 135,
    "start_time": "2022-12-17T19:14:58.689Z"
   },
   {
    "duration": 9,
    "start_time": "2022-12-17T19:14:58.826Z"
   },
   {
    "duration": 19,
    "start_time": "2022-12-17T19:14:58.837Z"
   },
   {
    "duration": 18,
    "start_time": "2022-12-17T19:14:58.857Z"
   },
   {
    "duration": 15,
    "start_time": "2022-12-17T19:14:58.877Z"
   },
   {
    "duration": 130,
    "start_time": "2022-12-17T19:14:58.894Z"
   },
   {
    "duration": 100,
    "start_time": "2022-12-17T19:14:59.027Z"
   },
   {
    "duration": 212,
    "start_time": "2022-12-17T19:14:59.129Z"
   },
   {
    "duration": 431,
    "start_time": "2022-12-17T19:14:59.416Z"
   },
   {
    "duration": 333,
    "start_time": "2022-12-17T19:14:59.849Z"
   },
   {
    "duration": 345,
    "start_time": "2022-12-17T19:15:00.183Z"
   },
   {
    "duration": 3,
    "start_time": "2022-12-17T19:15:00.530Z"
   },
   {
    "duration": 33,
    "start_time": "2022-12-17T19:15:00.535Z"
   },
   {
    "duration": 18,
    "start_time": "2022-12-17T19:15:00.569Z"
   },
   {
    "duration": 29,
    "start_time": "2022-12-17T19:15:00.589Z"
   },
   {
    "duration": 12,
    "start_time": "2022-12-17T19:15:00.619Z"
   },
   {
    "duration": 14,
    "start_time": "2022-12-17T19:15:00.632Z"
   },
   {
    "duration": 35,
    "start_time": "2022-12-17T19:15:00.647Z"
   },
   {
    "duration": 79,
    "start_time": "2022-12-17T19:15:00.684Z"
   },
   {
    "duration": 2874,
    "start_time": "2022-12-17T19:15:00.765Z"
   },
   {
    "duration": 5,
    "start_time": "2022-12-17T19:15:16.121Z"
   },
   {
    "duration": 8,
    "start_time": "2022-12-17T19:15:19.648Z"
   },
   {
    "duration": 16,
    "start_time": "2022-12-17T19:15:29.410Z"
   },
   {
    "duration": 15,
    "start_time": "2022-12-17T19:15:31.458Z"
   },
   {
    "duration": 1542,
    "start_time": "2022-12-18T10:11:20.315Z"
   },
   {
    "duration": 703,
    "start_time": "2022-12-18T10:11:22.282Z"
   },
   {
    "duration": 38,
    "start_time": "2022-12-18T10:11:23.267Z"
   },
   {
    "duration": 21,
    "start_time": "2022-12-18T10:11:23.692Z"
   },
   {
    "duration": 22,
    "start_time": "2022-12-18T10:11:24.730Z"
   },
   {
    "duration": 179,
    "start_time": "2022-12-18T10:11:25.279Z"
   },
   {
    "duration": 18,
    "start_time": "2022-12-18T10:11:25.723Z"
   },
   {
    "duration": 16,
    "start_time": "2022-12-18T10:11:28.490Z"
   },
   {
    "duration": 18,
    "start_time": "2022-12-18T10:11:29.004Z"
   },
   {
    "duration": 17,
    "start_time": "2022-12-18T10:11:34.532Z"
   },
   {
    "duration": 50,
    "start_time": "2022-12-18T10:11:35.436Z"
   },
   {
    "duration": 75,
    "start_time": "2022-12-18T10:11:36.318Z"
   },
   {
    "duration": 124,
    "start_time": "2022-12-18T10:11:36.867Z"
   },
   {
    "duration": 374,
    "start_time": "2022-12-18T10:11:38.864Z"
   },
   {
    "duration": 335,
    "start_time": "2022-12-18T10:11:39.404Z"
   },
   {
    "duration": 359,
    "start_time": "2022-12-18T10:11:39.921Z"
   },
   {
    "duration": 3,
    "start_time": "2022-12-18T10:11:42.673Z"
   },
   {
    "duration": 4,
    "start_time": "2022-12-18T10:11:44.936Z"
   },
   {
    "duration": 8,
    "start_time": "2022-12-18T10:11:49.176Z"
   },
   {
    "duration": 5,
    "start_time": "2022-12-18T10:11:50.214Z"
   },
   {
    "duration": 6,
    "start_time": "2022-12-18T10:11:51.874Z"
   },
   {
    "duration": 4,
    "start_time": "2022-12-18T10:11:53.859Z"
   },
   {
    "duration": 16,
    "start_time": "2022-12-18T10:11:54.706Z"
   },
   {
    "duration": 5,
    "start_time": "2022-12-18T10:12:05.628Z"
   },
   {
    "duration": 3315,
    "start_time": "2022-12-18T10:12:06.508Z"
   },
   {
    "duration": 2661,
    "start_time": "2022-12-18T10:15:04.770Z"
   },
   {
    "duration": 2936,
    "start_time": "2022-12-18T11:07:22.325Z"
   },
   {
    "duration": 637,
    "start_time": "2022-12-18T11:07:25.263Z"
   },
   {
    "duration": 33,
    "start_time": "2022-12-18T11:07:25.903Z"
   },
   {
    "duration": 25,
    "start_time": "2022-12-18T11:07:25.938Z"
   },
   {
    "duration": 25,
    "start_time": "2022-12-18T11:07:25.965Z"
   },
   {
    "duration": 152,
    "start_time": "2022-12-18T11:07:26.013Z"
   },
   {
    "duration": 15,
    "start_time": "2022-12-18T11:07:26.167Z"
   },
   {
    "duration": 36,
    "start_time": "2022-12-18T11:07:26.184Z"
   },
   {
    "duration": 37,
    "start_time": "2022-12-18T11:07:26.222Z"
   },
   {
    "duration": 26,
    "start_time": "2022-12-18T11:07:26.261Z"
   },
   {
    "duration": 26,
    "start_time": "2022-12-18T11:07:26.289Z"
   },
   {
    "duration": 106,
    "start_time": "2022-12-18T11:07:26.317Z"
   },
   {
    "duration": 290,
    "start_time": "2022-12-18T11:07:26.426Z"
   },
   {
    "duration": 455,
    "start_time": "2022-12-18T11:07:26.721Z"
   },
   {
    "duration": 378,
    "start_time": "2022-12-18T11:07:27.178Z"
   },
   {
    "duration": 395,
    "start_time": "2022-12-18T11:07:27.558Z"
   },
   {
    "duration": 3,
    "start_time": "2022-12-18T11:07:27.955Z"
   },
   {
    "duration": 9,
    "start_time": "2022-12-18T11:07:27.960Z"
   },
   {
    "duration": 8,
    "start_time": "2022-12-18T11:07:27.970Z"
   },
   {
    "duration": 6,
    "start_time": "2022-12-18T11:07:27.979Z"
   },
   {
    "duration": 27,
    "start_time": "2022-12-18T11:07:27.987Z"
   },
   {
    "duration": 12,
    "start_time": "2022-12-18T11:07:28.016Z"
   },
   {
    "duration": 21,
    "start_time": "2022-12-18T11:07:28.029Z"
   },
   {
    "duration": 5,
    "start_time": "2022-12-18T11:07:28.051Z"
   },
   {
    "duration": 2846,
    "start_time": "2022-12-18T11:07:28.058Z"
   },
   {
    "duration": 6,
    "start_time": "2022-12-18T11:08:05.493Z"
   },
   {
    "duration": 141,
    "start_time": "2022-12-18T11:08:05.658Z"
   },
   {
    "duration": 7,
    "start_time": "2022-12-18T11:08:10.297Z"
   },
   {
    "duration": 26,
    "start_time": "2022-12-18T11:08:10.565Z"
   },
   {
    "duration": 5,
    "start_time": "2022-12-18T11:08:16.467Z"
   },
   {
    "duration": 31,
    "start_time": "2022-12-18T11:08:16.716Z"
   },
   {
    "duration": 5,
    "start_time": "2022-12-18T11:08:32.043Z"
   },
   {
    "duration": 29,
    "start_time": "2022-12-18T11:08:32.747Z"
   },
   {
    "duration": 7,
    "start_time": "2022-12-18T11:08:55.826Z"
   },
   {
    "duration": 2831,
    "start_time": "2022-12-18T11:08:56.803Z"
   },
   {
    "duration": 31,
    "start_time": "2022-12-18T11:09:06.222Z"
   },
   {
    "duration": 5,
    "start_time": "2022-12-18T11:09:19.544Z"
   },
   {
    "duration": 35,
    "start_time": "2022-12-18T11:09:19.918Z"
   },
   {
    "duration": 5,
    "start_time": "2022-12-18T11:09:58.598Z"
   },
   {
    "duration": 2786,
    "start_time": "2022-12-18T11:09:58.906Z"
   },
   {
    "duration": 5,
    "start_time": "2022-12-18T11:10:23.926Z"
   },
   {
    "duration": 21,
    "start_time": "2022-12-18T11:10:24.379Z"
   },
   {
    "duration": 6,
    "start_time": "2022-12-18T11:10:36.844Z"
   },
   {
    "duration": 8,
    "start_time": "2022-12-18T11:10:39.288Z"
   },
   {
    "duration": 1272,
    "start_time": "2022-12-18T11:10:48.006Z"
   },
   {
    "duration": 3680,
    "start_time": "2022-12-18T11:10:55.279Z"
   },
   {
    "duration": 4,
    "start_time": "2022-12-18T11:11:02.037Z"
   },
   {
    "duration": 27,
    "start_time": "2022-12-18T11:11:02.473Z"
   },
   {
    "duration": 4,
    "start_time": "2022-12-18T11:11:30.817Z"
   },
   {
    "duration": 24,
    "start_time": "2022-12-18T11:11:30.964Z"
   },
   {
    "duration": 47,
    "start_time": "2022-12-18T11:12:00.567Z"
   },
   {
    "duration": 23,
    "start_time": "2022-12-18T11:12:01.091Z"
   },
   {
    "duration": 4,
    "start_time": "2022-12-18T11:12:12.878Z"
   },
   {
    "duration": 67,
    "start_time": "2022-12-18T11:12:13.347Z"
   },
   {
    "duration": 49,
    "start_time": "2022-12-18T11:12:29.837Z"
   },
   {
    "duration": 1089,
    "start_time": "2022-12-18T11:12:30.373Z"
   },
   {
    "duration": 4,
    "start_time": "2022-12-18T11:13:04.919Z"
   },
   {
    "duration": 10,
    "start_time": "2022-12-18T11:13:05.120Z"
   },
   {
    "duration": 984,
    "start_time": "2022-12-18T11:13:05.295Z"
   },
   {
    "duration": 6,
    "start_time": "2022-12-18T11:13:19.157Z"
   },
   {
    "duration": 5,
    "start_time": "2022-12-18T11:13:30.026Z"
   },
   {
    "duration": 389,
    "start_time": "2022-12-18T11:13:30.033Z"
   },
   {
    "duration": 20,
    "start_time": "2022-12-18T11:13:30.424Z"
   },
   {
    "duration": 24,
    "start_time": "2022-12-18T11:13:30.446Z"
   },
   {
    "duration": 44,
    "start_time": "2022-12-18T11:13:30.472Z"
   },
   {
    "duration": 136,
    "start_time": "2022-12-18T11:13:30.518Z"
   },
   {
    "duration": 9,
    "start_time": "2022-12-18T11:13:30.656Z"
   },
   {
    "duration": 18,
    "start_time": "2022-12-18T11:13:30.668Z"
   },
   {
    "duration": 34,
    "start_time": "2022-12-18T11:13:30.688Z"
   },
   {
    "duration": 15,
    "start_time": "2022-12-18T11:13:30.724Z"
   },
   {
    "duration": 79,
    "start_time": "2022-12-18T11:13:30.741Z"
   },
   {
    "duration": 109,
    "start_time": "2022-12-18T11:13:30.821Z"
   },
   {
    "duration": 180,
    "start_time": "2022-12-18T11:13:30.933Z"
   },
   {
    "duration": 532,
    "start_time": "2022-12-18T11:13:31.119Z"
   },
   {
    "duration": 337,
    "start_time": "2022-12-18T11:13:31.653Z"
   },
   {
    "duration": 376,
    "start_time": "2022-12-18T11:13:31.992Z"
   },
   {
    "duration": 4,
    "start_time": "2022-12-18T11:13:32.371Z"
   },
   {
    "duration": 13,
    "start_time": "2022-12-18T11:13:32.378Z"
   },
   {
    "duration": 19,
    "start_time": "2022-12-18T11:13:32.393Z"
   },
   {
    "duration": 9,
    "start_time": "2022-12-18T11:13:32.415Z"
   },
   {
    "duration": 10,
    "start_time": "2022-12-18T11:13:32.426Z"
   },
   {
    "duration": 5,
    "start_time": "2022-12-18T11:13:32.438Z"
   },
   {
    "duration": 10,
    "start_time": "2022-12-18T11:13:32.444Z"
   },
   {
    "duration": 31,
    "start_time": "2022-12-18T11:13:32.456Z"
   },
   {
    "duration": 0,
    "start_time": "2022-12-18T11:13:32.489Z"
   },
   {
    "duration": 0,
    "start_time": "2022-12-18T11:13:32.490Z"
   },
   {
    "duration": 8,
    "start_time": "2022-12-18T11:13:45.776Z"
   },
   {
    "duration": 25,
    "start_time": "2022-12-18T11:13:46.208Z"
   },
   {
    "duration": 5,
    "start_time": "2022-12-18T11:13:53.191Z"
   },
   {
    "duration": 360,
    "start_time": "2022-12-18T11:13:53.199Z"
   },
   {
    "duration": 20,
    "start_time": "2022-12-18T11:13:53.561Z"
   },
   {
    "duration": 37,
    "start_time": "2022-12-18T11:13:53.583Z"
   },
   {
    "duration": 21,
    "start_time": "2022-12-18T11:13:53.621Z"
   },
   {
    "duration": 135,
    "start_time": "2022-12-18T11:13:53.644Z"
   },
   {
    "duration": 10,
    "start_time": "2022-12-18T11:13:53.780Z"
   },
   {
    "duration": 28,
    "start_time": "2022-12-18T11:13:53.792Z"
   },
   {
    "duration": 11,
    "start_time": "2022-12-18T11:13:53.822Z"
   },
   {
    "duration": 12,
    "start_time": "2022-12-18T11:13:53.836Z"
   },
   {
    "duration": 68,
    "start_time": "2022-12-18T11:13:53.850Z"
   },
   {
    "duration": 107,
    "start_time": "2022-12-18T11:13:53.921Z"
   },
   {
    "duration": 183,
    "start_time": "2022-12-18T11:13:54.030Z"
   },
   {
    "duration": 433,
    "start_time": "2022-12-18T11:13:54.216Z"
   },
   {
    "duration": 342,
    "start_time": "2022-12-18T11:13:54.651Z"
   },
   {
    "duration": 350,
    "start_time": "2022-12-18T11:13:54.995Z"
   },
   {
    "duration": 3,
    "start_time": "2022-12-18T11:13:55.347Z"
   },
   {
    "duration": 5,
    "start_time": "2022-12-18T11:13:55.352Z"
   },
   {
    "duration": 7,
    "start_time": "2022-12-18T11:13:55.359Z"
   },
   {
    "duration": 5,
    "start_time": "2022-12-18T11:13:55.368Z"
   },
   {
    "duration": 7,
    "start_time": "2022-12-18T11:13:55.375Z"
   },
   {
    "duration": 4,
    "start_time": "2022-12-18T11:13:55.412Z"
   },
   {
    "duration": 9,
    "start_time": "2022-12-18T11:13:55.418Z"
   },
   {
    "duration": 25,
    "start_time": "2022-12-18T11:13:55.429Z"
   },
   {
    "duration": 0,
    "start_time": "2022-12-18T11:13:55.456Z"
   },
   {
    "duration": 0,
    "start_time": "2022-12-18T11:13:55.458Z"
   },
   {
    "duration": 6,
    "start_time": "2022-12-18T11:14:01.692Z"
   },
   {
    "duration": 6,
    "start_time": "2022-12-18T11:14:13.197Z"
   },
   {
    "duration": 359,
    "start_time": "2022-12-18T11:14:13.205Z"
   },
   {
    "duration": 22,
    "start_time": "2022-12-18T11:14:13.566Z"
   },
   {
    "duration": 42,
    "start_time": "2022-12-18T11:14:13.591Z"
   },
   {
    "duration": 24,
    "start_time": "2022-12-18T11:14:13.635Z"
   },
   {
    "duration": 148,
    "start_time": "2022-12-18T11:14:13.661Z"
   },
   {
    "duration": 12,
    "start_time": "2022-12-18T11:14:13.812Z"
   },
   {
    "duration": 16,
    "start_time": "2022-12-18T11:14:13.826Z"
   },
   {
    "duration": 12,
    "start_time": "2022-12-18T11:14:13.844Z"
   },
   {
    "duration": 13,
    "start_time": "2022-12-18T11:14:13.859Z"
   },
   {
    "duration": 43,
    "start_time": "2022-12-18T11:14:13.873Z"
   },
   {
    "duration": 100,
    "start_time": "2022-12-18T11:14:13.919Z"
   },
   {
    "duration": 104,
    "start_time": "2022-12-18T11:14:14.021Z"
   },
   {
    "duration": 524,
    "start_time": "2022-12-18T11:14:14.128Z"
   },
   {
    "duration": 348,
    "start_time": "2022-12-18T11:14:14.653Z"
   },
   {
    "duration": 376,
    "start_time": "2022-12-18T11:14:15.003Z"
   },
   {
    "duration": 4,
    "start_time": "2022-12-18T11:14:15.381Z"
   },
   {
    "duration": 9,
    "start_time": "2022-12-18T11:14:15.387Z"
   },
   {
    "duration": 17,
    "start_time": "2022-12-18T11:14:15.398Z"
   },
   {
    "duration": 9,
    "start_time": "2022-12-18T11:14:15.417Z"
   },
   {
    "duration": 9,
    "start_time": "2022-12-18T11:14:15.428Z"
   },
   {
    "duration": 5,
    "start_time": "2022-12-18T11:14:15.439Z"
   },
   {
    "duration": 7,
    "start_time": "2022-12-18T11:14:17.693Z"
   },
   {
    "duration": 2,
    "start_time": "2022-12-18T11:14:27.039Z"
   },
   {
    "duration": 7,
    "start_time": "2022-12-18T11:14:29.881Z"
   },
   {
    "duration": 3,
    "start_time": "2022-12-18T11:14:38.456Z"
   },
   {
    "duration": 27,
    "start_time": "2022-12-18T11:14:38.895Z"
   },
   {
    "duration": 6,
    "start_time": "2022-12-18T11:14:42.877Z"
   },
   {
    "duration": 5,
    "start_time": "2022-12-18T11:14:46.877Z"
   },
   {
    "duration": 6,
    "start_time": "2022-12-18T11:14:49.059Z"
   },
   {
    "duration": 6,
    "start_time": "2022-12-18T11:14:51.733Z"
   },
   {
    "duration": 3,
    "start_time": "2022-12-18T11:14:55.587Z"
   },
   {
    "duration": 35,
    "start_time": "2022-12-18T11:14:55.979Z"
   },
   {
    "duration": 3,
    "start_time": "2022-12-18T11:15:00.657Z"
   },
   {
    "duration": 3,
    "start_time": "2022-12-18T11:15:01.081Z"
   },
   {
    "duration": 36,
    "start_time": "2022-12-18T11:15:01.255Z"
   },
   {
    "duration": 4,
    "start_time": "2022-12-18T11:15:05.225Z"
   },
   {
    "duration": 4,
    "start_time": "2022-12-18T11:15:05.407Z"
   },
   {
    "duration": 18,
    "start_time": "2022-12-18T11:15:05.568Z"
   },
   {
    "duration": 4,
    "start_time": "2022-12-18T11:15:08.817Z"
   },
   {
    "duration": 26,
    "start_time": "2022-12-18T11:15:09.344Z"
   },
   {
    "duration": 6,
    "start_time": "2022-12-18T11:15:17.377Z"
   },
   {
    "duration": 2316,
    "start_time": "2022-12-18T11:15:17.545Z"
   },
   {
    "duration": 7,
    "start_time": "2022-12-18T11:15:23.975Z"
   },
   {
    "duration": 6,
    "start_time": "2022-12-18T11:15:28.540Z"
   },
   {
    "duration": 5,
    "start_time": "2022-12-18T11:16:06.716Z"
   },
   {
    "duration": 6390,
    "start_time": "2022-12-18T11:16:07.037Z"
   },
   {
    "duration": 5,
    "start_time": "2022-12-18T11:16:16.209Z"
   },
   {
    "duration": 27,
    "start_time": "2022-12-18T11:16:16.417Z"
   },
   {
    "duration": 6,
    "start_time": "2022-12-18T11:16:22.548Z"
   },
   {
    "duration": 34,
    "start_time": "2022-12-18T11:16:22.737Z"
   },
   {
    "duration": 6,
    "start_time": "2022-12-18T11:16:49.066Z"
   },
   {
    "duration": 31,
    "start_time": "2022-12-18T11:16:49.532Z"
   },
   {
    "duration": 4,
    "start_time": "2022-12-18T11:16:53.847Z"
   },
   {
    "duration": 2297,
    "start_time": "2022-12-18T11:16:54.065Z"
   },
   {
    "duration": 4,
    "start_time": "2022-12-18T11:17:02.156Z"
   },
   {
    "duration": 2194,
    "start_time": "2022-12-18T11:17:02.335Z"
   },
   {
    "duration": 6,
    "start_time": "2022-12-18T11:17:09.118Z"
   },
   {
    "duration": 2386,
    "start_time": "2022-12-18T11:17:09.187Z"
   },
   {
    "duration": 5,
    "start_time": "2022-12-18T11:17:22.279Z"
   },
   {
    "duration": 372,
    "start_time": "2022-12-18T11:17:22.286Z"
   },
   {
    "duration": 22,
    "start_time": "2022-12-18T11:17:22.660Z"
   },
   {
    "duration": 30,
    "start_time": "2022-12-18T11:17:22.684Z"
   },
   {
    "duration": 20,
    "start_time": "2022-12-18T11:17:22.716Z"
   },
   {
    "duration": 143,
    "start_time": "2022-12-18T11:17:22.737Z"
   },
   {
    "duration": 11,
    "start_time": "2022-12-18T11:17:22.882Z"
   },
   {
    "duration": 28,
    "start_time": "2022-12-18T11:17:22.896Z"
   },
   {
    "duration": 20,
    "start_time": "2022-12-18T11:17:22.926Z"
   },
   {
    "duration": 16,
    "start_time": "2022-12-18T11:17:22.947Z"
   },
   {
    "duration": 51,
    "start_time": "2022-12-18T11:17:22.965Z"
   },
   {
    "duration": 102,
    "start_time": "2022-12-18T11:17:23.019Z"
   },
   {
    "duration": 198,
    "start_time": "2022-12-18T11:17:23.123Z"
   },
   {
    "duration": 442,
    "start_time": "2022-12-18T11:17:23.325Z"
   },
   {
    "duration": 377,
    "start_time": "2022-12-18T11:17:23.769Z"
   },
   {
    "duration": 348,
    "start_time": "2022-12-18T11:17:24.148Z"
   },
   {
    "duration": 4,
    "start_time": "2022-12-18T11:17:24.497Z"
   },
   {
    "duration": 16,
    "start_time": "2022-12-18T11:17:24.502Z"
   },
   {
    "duration": 11,
    "start_time": "2022-12-18T11:17:24.520Z"
   },
   {
    "duration": 11,
    "start_time": "2022-12-18T11:17:24.533Z"
   },
   {
    "duration": 6,
    "start_time": "2022-12-18T11:17:24.546Z"
   },
   {
    "duration": 6,
    "start_time": "2022-12-18T11:17:24.554Z"
   },
   {
    "duration": 5,
    "start_time": "2022-12-18T11:17:24.562Z"
   },
   {
    "duration": 18,
    "start_time": "2022-12-18T11:17:24.569Z"
   },
   {
    "duration": 27,
    "start_time": "2022-12-18T11:17:24.588Z"
   },
   {
    "duration": 2987,
    "start_time": "2022-12-18T11:17:24.617Z"
   },
   {
    "duration": 4,
    "start_time": "2022-12-18T11:17:34.157Z"
   },
   {
    "duration": 15,
    "start_time": "2022-12-18T11:17:34.337Z"
   },
   {
    "duration": 5,
    "start_time": "2022-12-18T11:17:36.435Z"
   },
   {
    "duration": 2797,
    "start_time": "2022-12-18T11:17:36.676Z"
   },
   {
    "duration": 4,
    "start_time": "2022-12-18T11:18:16.137Z"
   },
   {
    "duration": 2910,
    "start_time": "2022-12-18T11:18:16.308Z"
   },
   {
    "duration": 2847,
    "start_time": "2022-12-18T11:18:37.451Z"
   },
   {
    "duration": 361,
    "start_time": "2022-12-18T11:18:40.300Z"
   },
   {
    "duration": 27,
    "start_time": "2022-12-18T11:18:40.663Z"
   },
   {
    "duration": 30,
    "start_time": "2022-12-18T11:18:40.692Z"
   },
   {
    "duration": 30,
    "start_time": "2022-12-18T11:18:40.725Z"
   },
   {
    "duration": 148,
    "start_time": "2022-12-18T11:18:40.757Z"
   },
   {
    "duration": 10,
    "start_time": "2022-12-18T11:18:40.911Z"
   },
   {
    "duration": 16,
    "start_time": "2022-12-18T11:18:40.923Z"
   },
   {
    "duration": 19,
    "start_time": "2022-12-18T11:18:40.941Z"
   },
   {
    "duration": 18,
    "start_time": "2022-12-18T11:18:40.963Z"
   },
   {
    "duration": 132,
    "start_time": "2022-12-18T11:18:40.983Z"
   },
   {
    "duration": 103,
    "start_time": "2022-12-18T11:18:41.117Z"
   },
   {
    "duration": 210,
    "start_time": "2022-12-18T11:18:41.223Z"
   },
   {
    "duration": 526,
    "start_time": "2022-12-18T11:18:41.436Z"
   },
   {
    "duration": 384,
    "start_time": "2022-12-18T11:18:41.964Z"
   },
   {
    "duration": 364,
    "start_time": "2022-12-18T11:18:42.350Z"
   },
   {
    "duration": 3,
    "start_time": "2022-12-18T11:18:42.715Z"
   },
   {
    "duration": 17,
    "start_time": "2022-12-18T11:18:42.720Z"
   },
   {
    "duration": 14,
    "start_time": "2022-12-18T11:18:42.739Z"
   },
   {
    "duration": 19,
    "start_time": "2022-12-18T11:18:42.755Z"
   },
   {
    "duration": 16,
    "start_time": "2022-12-18T11:18:42.775Z"
   },
   {
    "duration": 13,
    "start_time": "2022-12-18T11:18:42.793Z"
   },
   {
    "duration": 38,
    "start_time": "2022-12-18T11:18:42.807Z"
   },
   {
    "duration": 6,
    "start_time": "2022-12-18T11:18:42.847Z"
   },
   {
    "duration": 2720,
    "start_time": "2022-12-18T11:18:42.855Z"
   },
   {
    "duration": 1805,
    "start_time": "2022-12-18T14:09:35.728Z"
   },
   {
    "duration": 1938,
    "start_time": "2022-12-18T14:09:37.542Z"
   },
   {
    "duration": 44,
    "start_time": "2022-12-18T14:09:39.482Z"
   },
   {
    "duration": 21,
    "start_time": "2022-12-18T14:09:39.528Z"
   },
   {
    "duration": 25,
    "start_time": "2022-12-18T14:09:39.551Z"
   },
   {
    "duration": 176,
    "start_time": "2022-12-18T14:09:39.578Z"
   },
   {
    "duration": 11,
    "start_time": "2022-12-18T14:09:39.755Z"
   },
   {
    "duration": 22,
    "start_time": "2022-12-18T14:09:41.898Z"
   },
   {
    "duration": 21,
    "start_time": "2022-12-18T14:09:42.356Z"
   },
   {
    "duration": 17,
    "start_time": "2022-12-18T14:09:42.753Z"
   },
   {
    "duration": 27,
    "start_time": "2022-12-18T14:09:43.332Z"
   },
   {
    "duration": 73,
    "start_time": "2022-12-18T14:09:43.846Z"
   },
   {
    "duration": 67,
    "start_time": "2022-12-18T14:09:44.243Z"
   },
   {
    "duration": 336,
    "start_time": "2022-12-18T14:09:46.231Z"
   },
   {
    "duration": 390,
    "start_time": "2022-12-18T14:09:48.145Z"
   },
   {
    "duration": 394,
    "start_time": "2022-12-18T14:09:49.149Z"
   },
   {
    "duration": 8,
    "start_time": "2022-12-18T14:10:05.710Z"
   },
   {
    "duration": 4,
    "start_time": "2022-12-18T14:10:09.430Z"
   },
   {
    "duration": 6,
    "start_time": "2022-12-18T14:10:11.856Z"
   },
   {
    "duration": 11,
    "start_time": "2022-12-18T14:10:12.626Z"
   },
   {
    "duration": 5,
    "start_time": "2022-12-18T14:10:13.372Z"
   },
   {
    "duration": 4,
    "start_time": "2022-12-18T14:10:17.772Z"
   },
   {
    "duration": 25,
    "start_time": "2022-12-18T14:10:18.605Z"
   },
   {
    "duration": 4,
    "start_time": "2022-12-18T14:11:16.085Z"
   },
   {
    "duration": 15,
    "start_time": "2022-12-18T14:11:18.770Z"
   },
   {
    "duration": 8,
    "start_time": "2022-12-18T14:11:36.027Z"
   },
   {
    "duration": 3175,
    "start_time": "2022-12-18T14:11:37.062Z"
   }
  ],
  "kernelspec": {
   "display_name": "Python 3 (ipykernel)",
   "language": "python",
   "name": "python3"
  },
  "language_info": {
   "codemirror_mode": {
    "name": "ipython",
    "version": 3
   },
   "file_extension": ".py",
   "mimetype": "text/x-python",
   "name": "python",
   "nbconvert_exporter": "python",
   "pygments_lexer": "ipython3",
   "version": "3.9.5"
  },
  "toc": {
   "base_numbering": 1,
   "nav_menu": {},
   "number_sections": true,
   "sideBar": true,
   "skip_h1_title": true,
   "title_cell": "Table of Contents",
   "title_sidebar": "Contents",
   "toc_cell": false,
   "toc_position": {},
   "toc_section_display": true,
   "toc_window_display": false
  }
 },
 "nbformat": 4,
 "nbformat_minor": 2
}
